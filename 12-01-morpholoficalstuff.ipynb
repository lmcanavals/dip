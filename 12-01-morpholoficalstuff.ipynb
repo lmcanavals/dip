{
 "cells": [
  {
   "cell_type": "code",
   "execution_count": null,
   "metadata": {},
   "outputs": [],
   "source": []
  }
 ],
 "metadata": {
  "interpreter": {
   "hash": "4f474a86eed9e6c4670bf29d3a8d4cd0e4752b3ab299a79a6cb3933799429917"
  },
  "kernelspec": {
   "display_name": "Python 3.9.7 64-bit ('Ξ': conda)",
   "name": "python3"
  },
  "language_info": {
   "name": "python",
   "version": "3.9.7"
  },
  "orig_nbformat": 4
 },
 "nbformat": 4,
 "nbformat_minor": 2
}
